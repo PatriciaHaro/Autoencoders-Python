{
 "cells": [
  {
   "cell_type": "code",
   "execution_count": 1,
   "metadata": {},
   "outputs": [
    {
     "name": "stderr",
     "output_type": "stream",
     "text": [
      "Using TensorFlow backend.\n",
      "C:\\Users\\Daniel\\anaconda3\\envs\\tensor\\lib\\site-packages\\tensorflow\\python\\framework\\dtypes.py:458: FutureWarning: Passing (type, 1) or '1type' as a synonym of type is deprecated; in a future version of numpy, it will be understood as (type, (1,)) / '(1,)type'.\n",
      "  _np_qint8 = np.dtype([(\"qint8\", np.int8, 1)])\n",
      "C:\\Users\\Daniel\\anaconda3\\envs\\tensor\\lib\\site-packages\\tensorflow\\python\\framework\\dtypes.py:459: FutureWarning: Passing (type, 1) or '1type' as a synonym of type is deprecated; in a future version of numpy, it will be understood as (type, (1,)) / '(1,)type'.\n",
      "  _np_quint8 = np.dtype([(\"quint8\", np.uint8, 1)])\n",
      "C:\\Users\\Daniel\\anaconda3\\envs\\tensor\\lib\\site-packages\\tensorflow\\python\\framework\\dtypes.py:460: FutureWarning: Passing (type, 1) or '1type' as a synonym of type is deprecated; in a future version of numpy, it will be understood as (type, (1,)) / '(1,)type'.\n",
      "  _np_qint16 = np.dtype([(\"qint16\", np.int16, 1)])\n",
      "C:\\Users\\Daniel\\anaconda3\\envs\\tensor\\lib\\site-packages\\tensorflow\\python\\framework\\dtypes.py:461: FutureWarning: Passing (type, 1) or '1type' as a synonym of type is deprecated; in a future version of numpy, it will be understood as (type, (1,)) / '(1,)type'.\n",
      "  _np_quint16 = np.dtype([(\"quint16\", np.uint16, 1)])\n",
      "C:\\Users\\Daniel\\anaconda3\\envs\\tensor\\lib\\site-packages\\tensorflow\\python\\framework\\dtypes.py:462: FutureWarning: Passing (type, 1) or '1type' as a synonym of type is deprecated; in a future version of numpy, it will be understood as (type, (1,)) / '(1,)type'.\n",
      "  _np_qint32 = np.dtype([(\"qint32\", np.int32, 1)])\n",
      "C:\\Users\\Daniel\\anaconda3\\envs\\tensor\\lib\\site-packages\\tensorflow\\python\\framework\\dtypes.py:465: FutureWarning: Passing (type, 1) or '1type' as a synonym of type is deprecated; in a future version of numpy, it will be understood as (type, (1,)) / '(1,)type'.\n",
      "  np_resource = np.dtype([(\"resource\", np.ubyte, 1)])\n"
     ]
    }
   ],
   "source": [
    "from keras.models import Model\n",
    "from keras.layers import Input, Dense\n",
    "from keras.datasets import mnist\n",
    "import numpy as np\n",
    "import matplotlib.pyplot as plt"
   ]
  },
  {
   "cell_type": "code",
   "execution_count": 9,
   "metadata": {},
   "outputs": [],
   "source": [
    "# Define the Encoding  Dimension\n",
    "encoding_dim = 64"
   ]
  },
  {
   "cell_type": "code",
   "execution_count": 14,
   "metadata": {},
   "outputs": [],
   "source": [
    "# Input layer: MNIST image (28x28) reconverted to a vector of 784x1 to fit the layer\n",
    "input_img = Input(shape=(784,))\n",
    "\n",
    "# The encoded layer is a fully connected layer with ReLU activation function and applied on input layer \n",
    "# of the previous layer (encoded)\n",
    "encoded = Dense(256, activation='relu')(input_img)\n",
    "encoded = Dense(128, activation='relu')(encoded)\n",
    "encoded = Dense(64, activation='relu')(encoded) # bottleneck layer\n",
    "\n",
    "#The decoded layer is also fully connected and its output is the same size (784)\n",
    "decoded = Dense(128, activation='relu')(encoded)\n",
    "decoded = Dense(256, activation='relu')(decoded)\n",
    "decoded = Dense(784, activation='sigmoid')(decoded) # Sigmoid applied only in the end\n",
    "\n",
    "# The Model for the Autoencoder. Input is the input layer and output is the decoded layer\n",
    "autoencoder = Model(input_img, decoded)\n",
    "\n",
    "# The Model for the Encoder with original Input and Output is the encoder itself\n",
    "encoder = Model(input_img, encoded)\n",
    "\n",
    "# The Model for the Decoder\n",
    "# Create placeholder for Encoded Input \n",
    "encoded_input = Input(shape=(encoding_dim,))\n",
    "# Extract the 3rd last layer from the Autoencoder input, then the 2nd and then the first to feed the layers\n",
    "decoder_layer = autoencoder.layers[-3](encoded_input)\n",
    "decoder_layer = autoencoder.layers[-2](decoder_layer)\n",
    "decoder_layer = autoencoder.layers[-1](decoder_layer)\n",
    "# Build the Model for the Decoder\n",
    "decoder = Model(encoded_input, decoder_layer)"
   ]
  },
  {
   "cell_type": "code",
   "execution_count": 15,
   "metadata": {},
   "outputs": [],
   "source": [
    "# Compile the Model to run the Autoencoder and specify the type of loss function and optimizer needed to compile in Keras\n",
    "autoencoder.compile(optimizer='adadelta', loss = 'binary_crossentropy')"
   ]
  },
  {
   "cell_type": "markdown",
   "metadata": {},
   "source": [
    "# Load MNIST dataset"
   ]
  },
  {
   "cell_type": "code",
   "execution_count": 16,
   "metadata": {},
   "outputs": [
    {
     "name": "stdout",
     "output_type": "stream",
     "text": [
      "x_train shape = (60000, 784)\n",
      "x_test shape = (10000, 784)\n"
     ]
    }
   ],
   "source": [
    "(x_train, _),(x_test, _) = mnist.load_data()\n",
    "\n",
    "# Normalize the values between 0 and 1, float32 is a floating-point number that occupies 32 bits of storage.\n",
    "x_train = x_train.astype('float32')/255\n",
    "x_test = x_test.astype('float32')/255\n",
    "x_train = x_train.reshape((len(x_train), (np.prod(x_train.shape[1:]))))\n",
    "x_test = x_test.reshape((len(x_test), (np.prod(x_test.shape[1:]))))\n",
    "\n",
    "print(f'x_train shape = {x_train.shape}')\n",
    "print(f'x_test shape = {x_test.shape}')"
   ]
  },
  {
   "cell_type": "code",
   "execution_count": 17,
   "metadata": {},
   "outputs": [
    {
     "name": "stdout",
     "output_type": "stream",
     "text": [
      "Train on 60000 samples, validate on 10000 samples\n",
      "Epoch 1/50\n",
      "60000/60000 [==============================] - 8s 140us/step - loss: 0.3154 - val_loss: 0.2601\n",
      "Epoch 2/50\n",
      "60000/60000 [==============================] - 6s 105us/step - loss: 0.2474 - val_loss: 0.2372\n",
      "Epoch 3/50\n",
      "60000/60000 [==============================] - 7s 118us/step - loss: 0.2268 - val_loss: 0.2131\n",
      "Epoch 4/50\n",
      "60000/60000 [==============================] - 7s 110us/step - loss: 0.2020 - val_loss: 0.1916\n",
      "Epoch 5/50\n",
      "60000/60000 [==============================] - 6s 108us/step - loss: 0.1842 - val_loss: 0.1776\n",
      "Epoch 6/50\n",
      "60000/60000 [==============================] - 7s 110us/step - loss: 0.1749 - val_loss: 0.1715\n",
      "Epoch 7/50\n",
      "60000/60000 [==============================] - 7s 114us/step - loss: 0.1668 - val_loss: 0.1611\n",
      "Epoch 8/50\n",
      "60000/60000 [==============================] - 7s 115us/step - loss: 0.1588 - val_loss: 0.1542\n",
      "Epoch 9/50\n",
      "60000/60000 [==============================] - 7s 110us/step - loss: 0.1526 - val_loss: 0.1472\n",
      "Epoch 10/50\n",
      "60000/60000 [==============================] - 7s 112us/step - loss: 0.1481 - val_loss: 0.1450\n",
      "Epoch 11/50\n",
      "60000/60000 [==============================] - 6s 102us/step - loss: 0.1441 - val_loss: 0.1403\n",
      "Epoch 12/50\n",
      "60000/60000 [==============================] - 6s 105us/step - loss: 0.1402 - val_loss: 0.1377\n",
      "Epoch 13/50\n",
      "60000/60000 [==============================] - 6s 103us/step - loss: 0.1370 - val_loss: 0.1343\n",
      "Epoch 14/50\n",
      "60000/60000 [==============================] - 6s 100us/step - loss: 0.1341 - val_loss: 0.1303\n",
      "Epoch 15/50\n",
      "60000/60000 [==============================] - 6s 102us/step - loss: 0.1316 - val_loss: 0.1275\n",
      "Epoch 16/50\n",
      "60000/60000 [==============================] - 6s 104us/step - loss: 0.1293 - val_loss: 0.1263\n",
      "Epoch 17/50\n",
      "60000/60000 [==============================] - 6s 103us/step - loss: 0.1271 - val_loss: 0.1237\n",
      "Epoch 18/50\n",
      "60000/60000 [==============================] - 6s 107us/step - loss: 0.1251 - val_loss: 0.1216\n",
      "Epoch 19/50\n",
      "60000/60000 [==============================] - 6s 99us/step - loss: 0.1232 - val_loss: 0.1200\n",
      "Epoch 20/50\n",
      "60000/60000 [==============================] - 6s 101us/step - loss: 0.1216 - val_loss: 0.1186\n",
      "Epoch 21/50\n",
      "60000/60000 [==============================] - 6s 104us/step - loss: 0.1199 - val_loss: 0.1191\n",
      "Epoch 22/50\n",
      "60000/60000 [==============================] - 6s 102us/step - loss: 0.1183 - val_loss: 0.1157\n",
      "Epoch 23/50\n",
      "60000/60000 [==============================] - 6s 106us/step - loss: 0.1167 - val_loss: 0.1126\n",
      "Epoch 24/50\n",
      "60000/60000 [==============================] - 6s 105us/step - loss: 0.1151 - val_loss: 0.1132\n",
      "Epoch 25/50\n",
      "60000/60000 [==============================] - 6s 106us/step - loss: 0.1137 - val_loss: 0.1116\n",
      "Epoch 26/50\n",
      "60000/60000 [==============================] - 7s 112us/step - loss: 0.1124 - val_loss: 0.1093\n",
      "Epoch 27/50\n",
      "60000/60000 [==============================] - 6s 108us/step - loss: 0.1113 - val_loss: 0.1093\n",
      "Epoch 28/50\n",
      "60000/60000 [==============================] - 7s 110us/step - loss: 0.1104 - val_loss: 0.1085\n",
      "Epoch 29/50\n",
      "60000/60000 [==============================] - 6s 106us/step - loss: 0.1094 - val_loss: 0.1065\n",
      "Epoch 30/50\n",
      "60000/60000 [==============================] - 6s 106us/step - loss: 0.1087 - val_loss: 0.1070\n",
      "Epoch 31/50\n",
      "60000/60000 [==============================] - 6s 108us/step - loss: 0.1077 - val_loss: 0.1057\n",
      "Epoch 32/50\n",
      "60000/60000 [==============================] - 7s 112us/step - loss: 0.1069 - val_loss: 0.1057\n",
      "Epoch 33/50\n",
      "60000/60000 [==============================] - 7s 122us/step - loss: 0.1061 - val_loss: 0.1039\n",
      "Epoch 34/50\n",
      "60000/60000 [==============================] - 6s 102us/step - loss: 0.1055 - val_loss: 0.1036\n",
      "Epoch 35/50\n",
      "60000/60000 [==============================] - 6s 105us/step - loss: 0.1048 - val_loss: 0.1045\n",
      "Epoch 36/50\n",
      "60000/60000 [==============================] - 6s 104us/step - loss: 0.1043 - val_loss: 0.1045\n",
      "Epoch 37/50\n",
      "60000/60000 [==============================] - 6s 100us/step - loss: 0.1035 - val_loss: 0.1034\n",
      "Epoch 38/50\n",
      "60000/60000 [==============================] - 6s 106us/step - loss: 0.1029 - val_loss: 0.1022\n",
      "Epoch 39/50\n",
      "60000/60000 [==============================] - 7s 114us/step - loss: 0.1023 - val_loss: 0.1005\n",
      "Epoch 40/50\n",
      "60000/60000 [==============================] - 7s 121us/step - loss: 0.1019 - val_loss: 0.1003\n",
      "Epoch 41/50\n",
      "60000/60000 [==============================] - 7s 114us/step - loss: 0.1014 - val_loss: 0.1000\n",
      "Epoch 42/50\n",
      "60000/60000 [==============================] - 7s 114us/step - loss: 0.1008 - val_loss: 0.0993\n",
      "Epoch 43/50\n",
      "60000/60000 [==============================] - 8s 128us/step - loss: 0.1004 - val_loss: 0.0994\n",
      "Epoch 44/50\n",
      "60000/60000 [==============================] - 7s 120us/step - loss: 0.1000 - val_loss: 0.0988\n",
      "Epoch 45/50\n",
      "60000/60000 [==============================] - 7s 119us/step - loss: 0.0996 - val_loss: 0.0982\n",
      "Epoch 46/50\n",
      "60000/60000 [==============================] - 7s 109us/step - loss: 0.0992 - val_loss: 0.0979\n",
      "Epoch 47/50\n",
      "60000/60000 [==============================] - 7s 114us/step - loss: 0.0988 - val_loss: 0.0968\n",
      "Epoch 48/50\n",
      "60000/60000 [==============================] - 6s 107us/step - loss: 0.0985 - val_loss: 0.0976\n",
      "Epoch 49/50\n",
      "60000/60000 [==============================] - 7s 114us/step - loss: 0.0980 - val_loss: 0.0969\n",
      "Epoch 50/50\n",
      "60000/60000 [==============================] - 8s 127us/step - loss: 0.0977 - val_loss: 0.0959\n"
     ]
    },
    {
     "data": {
      "text/plain": [
       "<keras.callbacks.History at 0x1def2a1b9b0>"
      ]
     },
     "execution_count": 17,
     "metadata": {},
     "output_type": "execute_result"
    }
   ],
   "source": [
    "# Train the autoencoder for 50 epochs (an epoch refers to one cycle through the full training dataset) \n",
    "# Batch size generally approximates the distribution of the input data better than a single input\n",
    "autoencoder.fit(x_train, x_train, epochs=50, batch_size=256, shuffle=True, validation_data=(x_test, x_test))"
   ]
  },
  {
   "cell_type": "markdown",
   "metadata": {},
   "source": [
    "# Fit Data "
   ]
  },
  {
   "cell_type": "code",
   "execution_count": 20,
   "metadata": {},
   "outputs": [],
   "source": [
    "# Encode and Decode some digits from the test set\n",
    "encoded_imgs = encoder.predict(x_test)\n",
    "decoded_imgs = decoder.predict(encoded_imgs)"
   ]
  },
  {
   "cell_type": "code",
   "execution_count": 21,
   "metadata": {},
   "outputs": [
    {
     "data": {
      "image/png": "[encoded data removed]",
      "text/plain": [
       "<Figure size 1440x288 with 20 Axes>"
      ]
     },
     "metadata": {
      "needs_background": "light"
     },
     "output_type": "display_data"
    }
   ],
   "source": [
    "# Use 10 Digits \n",
    "n = 10 \n",
    "plt.figure(figsize=(20,4))\n",
    "\n",
    "for i in range(n):\n",
    "    # Display Original\n",
    "    ax = plt.subplot(2, n, i+1)\n",
    "    plt.imshow(x_test[i].reshape(28, 28))\n",
    "    plt.gray()\n",
    "    ax.get_xaxis().set_visible(False)\n",
    "    ax.get_yaxis().set_visible(False)\n",
    "    \n",
    "    # Display Reconstruction\n",
    "    ax = plt.subplot(2, n, i+1+n)\n",
    "    plt.imshow(decoded_imgs[i].reshape(28,28))\n",
    "    plt.gray()\n",
    "    ax.get_xaxis().set_visible(False)\n",
    "    ax.get_yaxis().set_visible(False)\n",
    "    \n",
    "plt.show()"
   ]
  },
  {
   "cell_type": "code",
   "execution_count": null,
   "metadata": {},
   "outputs": [],
   "source": []
  }
 ],
 "metadata": {
  "kernelspec": {
   "display_name": "Python 3",
   "language": "python",
   "name": "python3"
  },
  "language_info": {
   "codemirror_mode": {
    "name": "ipython",
    "version": 3
   },
   "file_extension": ".py",
   "mimetype": "text/x-python",
   "name": "python",
   "nbconvert_exporter": "python",
   "pygments_lexer": "ipython3",
   "version": "3.6.10"
  }
 },
 "nbformat": 4,
 "nbformat_minor": 4
}
