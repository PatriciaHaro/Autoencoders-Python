{
 "cells": [
  {
   "cell_type": "code",
   "execution_count": 2,
   "metadata": {},
   "outputs": [
    {
     "name": "stderr",
     "output_type": "stream",
     "text": [
      "Using TensorFlow backend.\n",
      "C:\\Users\\Daniel\\anaconda3\\envs\\tensor\\lib\\site-packages\\tensorflow\\python\\framework\\dtypes.py:458: FutureWarning: Passing (type, 1) or '1type' as a synonym of type is deprecated; in a future version of numpy, it will be understood as (type, (1,)) / '(1,)type'.\n",
      "  _np_qint8 = np.dtype([(\"qint8\", np.int8, 1)])\n",
      "C:\\Users\\Daniel\\anaconda3\\envs\\tensor\\lib\\site-packages\\tensorflow\\python\\framework\\dtypes.py:459: FutureWarning: Passing (type, 1) or '1type' as a synonym of type is deprecated; in a future version of numpy, it will be understood as (type, (1,)) / '(1,)type'.\n",
      "  _np_quint8 = np.dtype([(\"quint8\", np.uint8, 1)])\n",
      "C:\\Users\\Daniel\\anaconda3\\envs\\tensor\\lib\\site-packages\\tensorflow\\python\\framework\\dtypes.py:460: FutureWarning: Passing (type, 1) or '1type' as a synonym of type is deprecated; in a future version of numpy, it will be understood as (type, (1,)) / '(1,)type'.\n",
      "  _np_qint16 = np.dtype([(\"qint16\", np.int16, 1)])\n",
      "C:\\Users\\Daniel\\anaconda3\\envs\\tensor\\lib\\site-packages\\tensorflow\\python\\framework\\dtypes.py:461: FutureWarning: Passing (type, 1) or '1type' as a synonym of type is deprecated; in a future version of numpy, it will be understood as (type, (1,)) / '(1,)type'.\n",
      "  _np_quint16 = np.dtype([(\"quint16\", np.uint16, 1)])\n",
      "C:\\Users\\Daniel\\anaconda3\\envs\\tensor\\lib\\site-packages\\tensorflow\\python\\framework\\dtypes.py:462: FutureWarning: Passing (type, 1) or '1type' as a synonym of type is deprecated; in a future version of numpy, it will be understood as (type, (1,)) / '(1,)type'.\n",
      "  _np_qint32 = np.dtype([(\"qint32\", np.int32, 1)])\n",
      "C:\\Users\\Daniel\\anaconda3\\envs\\tensor\\lib\\site-packages\\tensorflow\\python\\framework\\dtypes.py:465: FutureWarning: Passing (type, 1) or '1type' as a synonym of type is deprecated; in a future version of numpy, it will be understood as (type, (1,)) / '(1,)type'.\n",
      "  np_resource = np.dtype([(\"resource\", np.ubyte, 1)])\n"
     ]
    }
   ],
   "source": [
    "from keras.models import Model\n",
    "from keras.layers import Input, Convolution2D, MaxPooling2D, UpSampling2D \n",
    "from keras.datasets import mnist\n",
    "import numpy as np\n",
    "import keras\n",
    "import matplotlib.pyplot as plt"
   ]
  },
  {
   "cell_type": "markdown",
   "metadata": {},
   "source": [
    "# Define the Convolutional Autoencoder  Model"
   ]
  },
  {
   "cell_type": "code",
   "execution_count": 4,
   "metadata": {},
   "outputs": [],
   "source": [
    "input = Input(shape=(28,28,1), name='input')\n",
    "\n",
    "x = Convolution2D(16, kernel_size=(3,3), padding='same', activation='relu', name='conv_1')(input)\n",
    "x = MaxPooling2D(pool_size=(2,2), padding='same')(x)\n",
    "x = Convolution2D(8, kernel_size=(3,3), padding='same', activation='relu', name='conv_2')(x)\n",
    "x = MaxPooling2D(pool_size=(2,2), padding='same')(x)\n",
    "x = Convolution2D(8, kernel_size=(3,3), padding='same', activation='relu', name='conv_3')(x)\n",
    "x = MaxPooling2D(pool_size=(2,2), padding='same')(x)\n",
    "\n",
    "x = Convolution2D(8, kernel_size=(3,3), padding='same', activation='relu', name='conv_4')(x)\n",
    "x = UpSampling2D(size=(2,2))(x)\n",
    "x = Convolution2D(8, kernel_size=(3,3), padding='same', activation='relu', name='conv_5')(x)\n",
    "x = UpSampling2D(size=(2,2))(x)\n",
    "x = Convolution2D(8, kernel_size=(3,3), activation='relu', name='conv_6')(x)\n",
    "x = UpSampling2D(size=(2,2))(x)\n",
    "\n",
    "output = Convolution2D(filters=1, kernel_size=(3,3), padding='same', activation='sigmoid', name='output')(x)\n",
    "\n",
    "model = Model(inputs=input, outputs=output, name='CAE')"
   ]
  },
  {
   "cell_type": "code",
   "execution_count": 5,
   "metadata": {},
   "outputs": [],
   "source": [
    "model.compile(optimizer='adadelta', loss='binary_crossentropy')"
   ]
  },
  {
   "cell_type": "code",
   "execution_count": 6,
   "metadata": {},
   "outputs": [
    {
     "name": "stdout",
     "output_type": "stream",
     "text": [
      "_________________________________________________________________\n",
      "Layer (type)                 Output Shape              Param #   \n",
      "=================================================================\n",
      "input (InputLayer)           (None, 28, 28, 1)         0         \n",
      "_________________________________________________________________\n",
      "conv_1 (Conv2D)              (None, 28, 28, 16)        160       \n",
      "_________________________________________________________________\n",
      "max_pooling2d_4 (MaxPooling2 (None, 14, 14, 16)        0         \n",
      "_________________________________________________________________\n",
      "conv_2 (Conv2D)              (None, 14, 14, 8)         1160      \n",
      "_________________________________________________________________\n",
      "max_pooling2d_5 (MaxPooling2 (None, 7, 7, 8)           0         \n",
      "_________________________________________________________________\n",
      "conv_3 (Conv2D)              (None, 7, 7, 8)           584       \n",
      "_________________________________________________________________\n",
      "max_pooling2d_6 (MaxPooling2 (None, 4, 4, 8)           0         \n",
      "_________________________________________________________________\n",
      "conv_4 (Conv2D)              (None, 4, 4, 8)           584       \n",
      "_________________________________________________________________\n",
      "up_sampling2d_1 (UpSampling2 (None, 8, 8, 8)           0         \n",
      "_________________________________________________________________\n",
      "conv_5 (Conv2D)              (None, 8, 8, 8)           584       \n",
      "_________________________________________________________________\n",
      "up_sampling2d_2 (UpSampling2 (None, 16, 16, 8)         0         \n",
      "_________________________________________________________________\n",
      "conv_6 (Conv2D)              (None, 14, 14, 8)         584       \n",
      "_________________________________________________________________\n",
      "up_sampling2d_3 (UpSampling2 (None, 28, 28, 8)         0         \n",
      "_________________________________________________________________\n",
      "output (Conv2D)              (None, 28, 28, 1)         73        \n",
      "=================================================================\n",
      "Total params: 3,729\n",
      "Trainable params: 3,729\n",
      "Non-trainable params: 0\n",
      "_________________________________________________________________\n"
     ]
    }
   ],
   "source": [
    "model.summary()"
   ]
  },
  {
   "cell_type": "markdown",
   "metadata": {},
   "source": [
    "# Load MNIST Dataset"
   ]
  },
  {
   "cell_type": "code",
   "execution_count": 7,
   "metadata": {},
   "outputs": [],
   "source": [
    "(x_train, _), (x_test, _) = mnist.load_data()\n",
    "\n",
    "x_train = x_train.astype('float32') / 255.\n",
    "x_test = x_test.astype('float32') / 255.\n",
    "x_train = np.reshape(x_train, (len(x_train), 28, 28, 1))\n",
    "x_test = np.reshape(x_test, (len(x_test), 28, 28, 1)) "
   ]
  },
  {
   "cell_type": "code",
   "execution_count": 8,
   "metadata": {},
   "outputs": [
    {
     "name": "stdout",
     "output_type": "stream",
     "text": [
      "Epoch 1/50\n",
      "60000/60000 [==============================] - 80s 1ms/step - loss: 0.1635: 1s -\n",
      "Epoch 2/50\n",
      "60000/60000 [==============================] - 79s 1ms/step - loss: 0.1245\n",
      "Epoch 3/50\n",
      "60000/60000 [==============================] - 80s 1ms/step - loss: 0.1170\n",
      "Epoch 4/50\n",
      "60000/60000 [==============================] - 80s 1ms/step - loss: 0.1129\n",
      "Epoch 5/50\n",
      "60000/60000 [==============================] - 80s 1ms/step - loss: 0.1101\n",
      "Epoch 6/50\n",
      "60000/60000 [==============================] - 85s 1ms/step - loss: 0.1084: 5\n",
      "Epoch 7/50\n",
      "60000/60000 [==============================] - 79s 1ms/step - loss: 0.1073\n",
      "Epoch 8/50\n",
      "60000/60000 [==============================] - 79s 1ms/step - loss: 0.1055\n",
      "Epoch 9/50\n",
      "60000/60000 [==============================] - 76s 1ms/step - loss: 0.1048\n",
      "Epoch 10/50\n",
      "60000/60000 [==============================] - 77s 1ms/step - loss: 0.1041\n",
      "Epoch 11/50\n",
      "60000/60000 [==============================] - 80s 1ms/step - loss: 0.1033\n",
      "Epoch 12/50\n",
      "60000/60000 [==============================] - 83s 1ms/step - loss: 0.1027\n",
      "Epoch 13/50\n",
      "60000/60000 [==============================] - 78s 1ms/step - loss: 0.1019\n",
      "Epoch 14/50\n",
      "60000/60000 [==============================] - 77s 1ms/step - loss: 0.1016\n",
      "Epoch 15/50\n",
      "60000/60000 [==============================] - 82s 1ms/step - loss: 0.1010\n",
      "Epoch 16/50\n",
      "60000/60000 [==============================] - 82s 1ms/step - loss: 0.1005\n",
      "Epoch 17/50\n",
      "60000/60000 [==============================] - 80s 1ms/step - loss: 0.1002\n",
      "Epoch 18/50\n",
      "60000/60000 [==============================] - 76s 1ms/step - loss: 0.0998\n",
      "Epoch 19/50\n",
      "60000/60000 [==============================] - 78s 1ms/step - loss: 0.0995\n",
      "Epoch 20/50\n",
      "60000/60000 [==============================] - 77s 1ms/step - loss: 0.0992\n",
      "Epoch 21/50\n",
      "60000/60000 [==============================] - 76s 1ms/step - loss: 0.0989\n",
      "Epoch 22/50\n",
      "60000/60000 [==============================] - 76s 1ms/step - loss: 0.0985\n",
      "Epoch 23/50\n",
      "60000/60000 [==============================] - 76s 1ms/step - loss: 0.0983\n",
      "Epoch 24/50\n",
      "60000/60000 [==============================] - 76s 1ms/step - loss: 0.0979\n",
      "Epoch 25/50\n",
      "60000/60000 [==============================] - 75s 1ms/step - loss: 0.0975\n",
      "Epoch 26/50\n",
      "60000/60000 [==============================] - 75s 1ms/step - loss: 0.0975\n",
      "Epoch 27/50\n",
      "60000/60000 [==============================] - 76s 1ms/step - loss: 0.0971\n",
      "Epoch 28/50\n",
      "60000/60000 [==============================] - 75s 1ms/step - loss: 0.0971\n",
      "Epoch 29/50\n",
      "60000/60000 [==============================] - 75s 1ms/step - loss: 0.0968\n",
      "Epoch 30/50\n",
      "60000/60000 [==============================] - 75s 1ms/step - loss: 0.0965\n",
      "Epoch 31/50\n",
      "60000/60000 [==============================] - 76s 1ms/step - loss: 0.0964\n",
      "Epoch 32/50\n",
      "60000/60000 [==============================] - 75s 1ms/step - loss: 0.0962\n",
      "Epoch 33/50\n",
      "60000/60000 [==============================] - 75s 1ms/step - loss: 0.0959\n",
      "Epoch 34/50\n",
      "60000/60000 [==============================] - 78s 1ms/step - loss: 0.0959\n",
      "Epoch 35/50\n",
      "60000/60000 [==============================] - 76s 1ms/step - loss: 0.0957\n",
      "Epoch 36/50\n",
      "60000/60000 [==============================] - 77s 1ms/step - loss: 0.0956\n",
      "Epoch 37/50\n",
      "60000/60000 [==============================] - 75s 1ms/step - loss: 0.0955\n",
      "Epoch 38/50\n",
      "60000/60000 [==============================] - 75s 1ms/step - loss: 0.0952\n",
      "Epoch 39/50\n",
      "60000/60000 [==============================] - 76s 1ms/step - loss: 0.0953\n",
      "Epoch 40/50\n",
      "60000/60000 [==============================] - 75s 1ms/step - loss: 0.0951: 1\n",
      "Epoch 41/50\n",
      "60000/60000 [==============================] - 75s 1ms/step - loss: 0.0950\n",
      "Epoch 42/50\n",
      "60000/60000 [==============================] - 75s 1ms/step - loss: 0.0949\n",
      "Epoch 43/50\n",
      "60000/60000 [==============================] - 76s 1ms/step - loss: 0.0947\n",
      "Epoch 44/50\n",
      "60000/60000 [==============================] - 76s 1ms/step - loss: 0.0947\n",
      "Epoch 45/50\n",
      "60000/60000 [==============================] - 75s 1ms/step - loss: 0.0947\n",
      "Epoch 46/50\n",
      "60000/60000 [==============================] - 76s 1ms/step - loss: 0.0947\n",
      "Epoch 47/50\n",
      "60000/60000 [==============================] - 77s 1ms/step - loss: 0.0945: 0s - los\n",
      "Epoch 48/50\n",
      "60000/60000 [==============================] - 77s 1ms/step - loss: 0.0942\n",
      "Epoch 49/50\n",
      "60000/60000 [==============================] - 80s 1ms/step - loss: 0.0943\n",
      "Epoch 50/50\n",
      "60000/60000 [==============================] - 80s 1ms/step - loss: 0.0943\n"
     ]
    },
    {
     "data": {
      "text/plain": [
       "<keras.callbacks.History at 0x24bbd4b88d0>"
      ]
     },
     "execution_count": 8,
     "metadata": {},
     "output_type": "execute_result"
    }
   ],
   "source": [
    "model.fit(x_train, x_train, batch_size=32, epochs=50)"
   ]
  },
  {
   "cell_type": "code",
   "execution_count": 9,
   "metadata": {},
   "outputs": [],
   "source": [
    "out_images = model.predict(x_test)"
   ]
  },
  {
   "cell_type": "code",
   "execution_count": 10,
   "metadata": {},
   "outputs": [
    {
     "data": {
      "image/png": "[encoded data removed]",
      "text/plain": [
       "<Figure size 1080x288 with 20 Axes>"
      ]
     },
     "metadata": {
      "needs_background": "light"
     },
     "output_type": "display_data"
    }
   ],
   "source": [
    "n = 10\n",
    "plt.figure(figsize=(15,4))\n",
    "for i in range(n):\n",
    "    ax = plt.subplot(2, n, i + 1)\n",
    "    plt.imshow(x_test[i].reshape(28, 28))\n",
    "    \n",
    "    ax = plt.subplot(2, n, i + 1 + n)\n",
    "    plt.imshow(out_images[i].reshape(28, 28))\n",
    "    \n",
    "plt.show()"
   ]
  },
  {
   "cell_type": "code",
   "execution_count": null,
   "metadata": {},
   "outputs": [],
   "source": []
  }
 ],
 "metadata": {
  "kernelspec": {
   "display_name": "Python 3",
   "language": "python",
   "name": "python3"
  },
  "language_info": {
   "codemirror_mode": {
    "name": "ipython",
    "version": 3
   },
   "file_extension": ".py",
   "mimetype": "text/x-python",
   "name": "python",
   "nbconvert_exporter": "python",
   "pygments_lexer": "ipython3",
   "version": "3.6.10"
  }
 },
 "nbformat": 4,
 "nbformat_minor": 4
}
